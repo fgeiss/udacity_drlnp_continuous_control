{
 "cells": [
  {
   "cell_type": "markdown",
   "metadata": {},
   "source": [
    "# Continuous Control\n",
    "\n",
    "---\n",
    "\n",
    "You are welcome to use this coding environment to train your agent for the project.  Follow the instructions below to get started!\n",
    "\n",
    "### 1. Start the Environment\n",
    "\n",
    "Run the next code cell to install a few packages.  This line will take a few minutes to run!"
   ]
  },
  {
   "cell_type": "code",
   "execution_count": 1,
   "metadata": {},
   "outputs": [
    {
     "name": "stdout",
     "output_type": "stream",
     "text": [
      "\u001b[31mERROR: Invalid requirement: './python'\r\n",
      "It looks like a path. File './python' does not exist.\u001b[0m\r\n"
     ]
    }
   ],
   "source": [
    "!pip -q install ./python"
   ]
  },
  {
   "cell_type": "markdown",
   "metadata": {},
   "source": [
    "The environments corresponding to both versions of the environment are already saved in the Workspace and can be accessed at the file paths provided below.  \n",
    "\n",
    "Please select one of the two options below for loading the environment."
   ]
  },
  {
   "cell_type": "code",
   "execution_count": 2,
   "metadata": {},
   "outputs": [
    {
     "name": "stderr",
     "output_type": "stream",
     "text": [
      "INFO:unityagents:\n",
      "'Academy' started successfully!\n",
      "Unity Academy name: Academy\n",
      "        Number of Brains: 1\n",
      "        Number of External Brains : 1\n",
      "        Lesson number : 0\n",
      "        Reset Parameters :\n",
      "\t\tgoal_speed -> 1.0\n",
      "\t\tgoal_size -> 5.0\n",
      "Unity brain name: ReacherBrain\n",
      "        Number of Visual Observations (per agent): 0\n",
      "        Vector Observation space type: continuous\n",
      "        Vector Observation space size (per agent): 33\n",
      "        Number of stacked Vector Observation: 1\n",
      "        Vector Action space type: continuous\n",
      "        Vector Action space size (per agent): 4\n",
      "        Vector Action descriptions: , , , \n"
     ]
    }
   ],
   "source": [
    "from unityagents import UnityEnvironment\n",
    "import numpy as np\n",
    "\n",
    "# select this option to load version 1 (with a single agent) of the environment\n",
    "#env = UnityEnvironment(file_name='/data/Reacher_One_Linux_NoVis/Reacher_One_Linux_NoVis.x86_64')\n",
    "\n",
    "# select this option to load version 2 (with 20 agents) of the environment\n",
    "env = UnityEnvironment(file_name='Reacher_20.app')"
   ]
  },
  {
   "cell_type": "markdown",
   "metadata": {},
   "source": [
    "Environments contain **_brains_** which are responsible for deciding the actions of their associated agents. Here we check for the first brain available, and set it as the default brain we will be controlling from Python."
   ]
  },
  {
   "cell_type": "code",
   "execution_count": 3,
   "metadata": {},
   "outputs": [],
   "source": [
    "# get the default brain\n",
    "brain_name = env.brain_names[0]\n",
    "brain = env.brains[brain_name]"
   ]
  },
  {
   "cell_type": "markdown",
   "metadata": {},
   "source": [
    "### 2. Examine the State and Action Spaces\n",
    "\n",
    "Run the code cell below to print some information about the environment."
   ]
  },
  {
   "cell_type": "code",
   "execution_count": 4,
   "metadata": {},
   "outputs": [
    {
     "name": "stdout",
     "output_type": "stream",
     "text": [
      "Number of agents: 20\n",
      "Size of each action: 4\n",
      "There are 20 agents. Each observes a state with length: 33\n",
      "The state for the first agent looks like: [ 0.00000000e+00 -4.00000000e+00  0.00000000e+00  1.00000000e+00\n",
      " -0.00000000e+00 -0.00000000e+00 -4.37113883e-08  0.00000000e+00\n",
      "  0.00000000e+00  0.00000000e+00  0.00000000e+00  0.00000000e+00\n",
      "  0.00000000e+00  0.00000000e+00 -1.00000000e+01  0.00000000e+00\n",
      "  1.00000000e+00 -0.00000000e+00 -0.00000000e+00 -4.37113883e-08\n",
      "  0.00000000e+00  0.00000000e+00  0.00000000e+00  0.00000000e+00\n",
      "  0.00000000e+00  0.00000000e+00  5.75471878e+00 -1.00000000e+00\n",
      "  5.55726624e+00  0.00000000e+00  1.00000000e+00  0.00000000e+00\n",
      " -1.68164849e-01]\n"
     ]
    }
   ],
   "source": [
    "# reset the environment\n",
    "env_info = env.reset(train_mode=True)[brain_name]\n",
    "\n",
    "# number of agents\n",
    "num_agents = len(env_info.agents)\n",
    "print('Number of agents:', num_agents)\n",
    "\n",
    "# size of each action\n",
    "action_size = brain.vector_action_space_size\n",
    "print('Size of each action:', action_size)\n",
    "\n",
    "# examine the state space \n",
    "states = env_info.vector_observations\n",
    "state_size = states.shape[1]\n",
    "print('There are {} agents. Each observes a state with length: {}'.format(states.shape[0], state_size))\n",
    "print('The state for the first agent looks like:', states[0])"
   ]
  },
  {
   "cell_type": "markdown",
   "metadata": {},
   "source": [
    "### 3. Take Random Actions in the Environment\n",
    "\n",
    "In the next code cell, you will learn how to use the Python API to control the agent and receive feedback from the environment.\n",
    "\n",
    "Note that **in this coding environment, you will not be able to watch the agents while they are training**, and you should set `train_mode=True` to restart the environment."
   ]
  },
  {
   "cell_type": "code",
   "execution_count": null,
   "metadata": {
    "scrolled": true
   },
   "outputs": [],
   "source": [
    "all_scores = []\n",
    "for _ in range(100):\n",
    "    env_info = env.reset(train_mode=True)[brain_name]      # reset the environment    \n",
    "    states = env_info.vector_observations                  # get the current state (for each agent)\n",
    "    scores = np.zeros(num_agents)                          # initialize the score (for each agent)\n",
    "    steps = 0\n",
    "    while True:\n",
    "        actions = np.random.randn(num_agents, action_size) # select an action (for each agent)\n",
    "        actions = np.clip(actions, -1, 1)                  # all actions between -1 and 1\n",
    "        env_info = env.step(actions)[brain_name]           # send all actions to tne environment\n",
    "        next_states = env_info.vector_observations         # get next state (for each agent)\n",
    "        rewards = env_info.rewards                         # get reward (for each agent)\n",
    "        dones = env_info.local_done                        # see if episode finished\n",
    "        scores += env_info.rewards                         # update the score (for each agent)\n",
    "        states = next_states                               # roll over states to next time step\n",
    "        steps += 1\n",
    "        if np.any(dones):                                  # exit loop if episode finished\n",
    "            break\n",
    "    all_scores.append(scores)\n",
    "    print('Total score (averaged over agents) this episode: {} took steps {}'.format(np.mean(scores),steps))"
   ]
  },
  {
   "cell_type": "code",
   "execution_count": null,
   "metadata": {},
   "outputs": [],
   "source": [
    "import matplotlib.pyplot as plt\n",
    "%matplotlib inline\n",
    "plt.xlabel('Score')\n",
    "plt.ylabel('Frequency')\n",
    "mean = np.mean([np.mean(score) for score in all_scores])\n",
    "std = np.std([np.mean(score) for score in all_scores])\n",
    "plt.title('Distribution of Scores for Agent with Random Uniform Sampled Actions\\n Mean {:2f} and Std Dev {:2f}'.format(mean, std))\n",
    "plt.hist([np.mean(score) for score in all_scores])\n",
    "plt.savefig('reacher_20_arms_baseline.png')"
   ]
  },
  {
   "cell_type": "code",
   "execution_count": 5,
   "metadata": {},
   "outputs": [],
   "source": [
    "import configparser\n",
    "from ddpg_agent import Agent\n",
    "\n",
    "config = configparser.ConfigParser()\n",
    "config.read('hyperparameter.ini')\n",
    "\n",
    "agent = Agent(state_size=33, action_size=4, random_seed=0, hyperparameters=config['Hyperparameters'])"
   ]
  },
  {
   "cell_type": "code",
   "execution_count": null,
   "metadata": {},
   "outputs": [],
   "source": [
    "import random\n",
    "import torch\n",
    "import numpy as np\n",
    "from collections import deque\n",
    "\n",
    "import matplotlib.pyplot as plt\n",
    "%matplotlib inline\n",
    "\n",
    "number_of_agents = 20\n",
    "prefill_episodes = 10\n",
    "\n",
    "def ddpg(n_episodes=500, max_t=3000):\n",
    "    score_deque = deque(maxlen=100)\n",
    "    score = []\n",
    "    scorelist = []\n",
    "    max_score = -np.Inf\n",
    "    for i_episode in range(1, n_episodes+1):\n",
    "        env_info = env.reset(train_mode=True)[brain_name]     # reset the environment  \n",
    "        states = env_info.vector_observations                 # get the current state\n",
    "        agent.reset()\n",
    "        scores = np.zeros(number_of_agents)\n",
    "        for t in range(max_t):\n",
    "            actions = None\n",
    "            if i_episode>=prefill_episodes:\n",
    "                actions = agent.act(states)\n",
    "            else:\n",
    "                actions = np.random.randn(number_of_agents, action_size) # select an action (for each agent)\n",
    "                actions = np.clip(actions, -1, 1)\n",
    "                \n",
    "            env_info = env.step(actions)[brain_name]        # send the action to the environment\n",
    "            #next_state, reward, done, _ = env.step(action)\n",
    "            next_states = env_info.vector_observations       # get the next state\n",
    "            rewards = env_info.rewards                        # get the reward\n",
    "            dones = env_info.local_done                       # see if episode has finished\n",
    "\n",
    "            agent.step_add_to_memory(states, actions, rewards, next_states, dones)\n",
    "            \n",
    "            if i_episode>=prefill_episodes:\n",
    "                agent.step_learn()\n",
    "            \n",
    "            states = next_states\n",
    "            scores += env_info.rewards\n",
    "            \n",
    "            if np.any(dones):\n",
    "                break\n",
    "        scorelist.append(scores)\n",
    "        \n",
    "        score_mean = np.mean(scores)\n",
    "        score_min = np.min(scores)\n",
    "        score_max = np.max(scores)\n",
    "        score_deque.append(score_mean)\n",
    "        score.append(score_mean)\n",
    "        \n",
    "        print('\\rEpisode {}\\tAverage Score: {:.2f}\\tScore mean: {:.2f} \\tScore min: {:.2f} \\tScore max: {:.2f} '.format(i_episode, np.mean(score_deque), score_mean, score_min, score_max), end=\"\\n\")\n",
    "        if i_episode % 10 == 0:\n",
    "            torch.save(agent.actor_local.state_dict(), 'checkpoint_actor.pth')\n",
    "            torch.save(agent.critic_local.state_dict(), 'checkpoint_critic.pth')\n",
    "            print('\\rEpisode {}\\tAverage Score: {}'.format(i_episode, np.mean(score_deque)))\n",
    "        if np.mean(score_deque)>34.0:\n",
    "            print(\"\\rSolved\\n\")\n",
    "            torch.save(agent.actor_local.state_dict(), 'checkpoint_actor_final.pth')\n",
    "            torch.save(agent.critic_local.state_dict(), 'checkpoint_critic_final.pth')\n",
    "            break\n",
    "    return scorelist\n",
    "\n",
    "\n",
    "scores = []\n",
    "scores = ddpg()"
   ]
  },
  {
   "cell_type": "code",
   "execution_count": 6,
   "metadata": {},
   "outputs": [],
   "source": [
    "import pickle\n",
    "pickle.dump(scores, open( \"scores.p\", \"wb\" ))"
   ]
  },
  {
   "cell_type": "code",
   "execution_count": 8,
   "metadata": {},
   "outputs": [
    {
     "data": {
      "image/png": "[encoded data removed]",
      "text/plain": [
       "<Figure size 432x288 with 1 Axes>"
      ]
     },
     "metadata": {
      "needs_background": "light"
     },
     "output_type": "display_data"
    }
   ],
   "source": [
    "from collections import deque\n",
    "import numpy as np\n",
    "\n",
    "import matplotlib.pyplot as plt\n",
    "%matplotlib inline\n",
    "\n",
    "scores = pickle.load( open( \"scores.p\", \"rb\" ) )\n",
    "\n",
    "scores_avg = []\n",
    "scores_window = deque(maxlen=100)\n",
    "success = False\n",
    "for i,x in enumerate(scores):\n",
    "    \n",
    "    scores_window.append(np.mean(x))\n",
    "    m = np.mean(scores_window)\n",
    "    if m>30 and success == False:\n",
    "        x_success = i\n",
    "        y_success = m\n",
    "        success = True\n",
    "    scores_avg.append(np.mean(scores_window))\n",
    "plt.plot([np.mean(x) for x in scores],color='lightblue',alpha=0.7)\n",
    "mins = [np.min(x) for x in scores]\n",
    "maxs = [np.max(x) for x in scores]\n",
    "\n",
    "plt.fill_between(list(range(len(mins))),mins,maxs,color='lightblue',alpha=0.3)\n",
    "\n",
    "plt.plot(scores_avg, color='blue')\n",
    "plt.scatter(x_success,y_success, color='red')\n",
    "plt.text(x_success,y_success-1.5,\"ep. {}\".format(x_success))\n",
    "plt.hlines(30.0,0,250, color='green')\n",
    "plt.title(\"Scores per Episode during Training for \"+ \"DDQN\")\n",
    "plt.savefig('learning_ddqn.png')"
   ]
  },
  {
   "cell_type": "markdown",
   "metadata": {},
   "source": [
    "# Run experiment with final agent"
   ]
  },
  {
   "cell_type": "code",
   "execution_count": null,
   "metadata": {},
   "outputs": [],
   "source": [
    "#import torch\n",
    "#from ddpg_agent import Agent\n",
    "#agent = Agent(state_size=33, action_size=4, random_seed=0)\n",
    "\n",
    "#agent.actor_target.load_state_dict(torch.load('checkpoint_actor.pth'))\n",
    "#agent.actor_local.load_state_dict(torch.load('checkpoint_actor.pth'))\n",
    "#agent.critic_target.load_state_dict(torch.load('checkpoint_critic.pth'))\n",
    "#agent.critic_local.load_state_dict(torch.load('checkpoint_critic.pth'))"
   ]
  },
  {
   "cell_type": "code",
   "execution_count": 12,
   "metadata": {},
   "outputs": [
    {
     "name": "stdout",
     "output_type": "stream",
     "text": [
      "Episode 0\tAverage Score: 37.05749917170033 22.479999497532845 39.60999911464751\n",
      "Episode 1\tAverage Score: 37.63899915870279 30.839999310672283 39.61999911442399\n",
      "Episode 2\tAverage Score: 37.797999155148865 27.80999937839806 39.61999911442399\n",
      "Episode 3\tAverage Score: 37.620999159105125 30.159999325871468 39.639999113976955\n",
      "Episode 4\tAverage Score: 38.25199914500117 34.19999923557043 39.58999911509454\n",
      "Episode 5\tAverage Score: 37.32999916560948 25.269999435171485 39.6699991133064\n",
      "Episode 6\tAverage Score: 36.99649917306378 22.03999950736761 39.62999911420047\n",
      "Episode 7\tAverage Score: 38.8099991325289 35.649999203160405 39.639999113976955\n",
      "Episode 8\tAverage Score: 38.00499915052205 31.229999301955104 39.65999911352992\n",
      "Episode 9\tAverage Score: 37.43349916329608 32.6099992711097 39.62999911420047\n",
      "Episode 10\tAverage Score: 37.766999155841766 29.809999333694577 39.64999911375344\n",
      "Episode 11\tAverage Score: 36.82999917678535 22.519999496638775 39.61999911442399\n",
      "Episode 12\tAverage Score: 37.830499154422434 32.44999927468598 39.61999911442399\n",
      "Episode 13\tAverage Score: 37.98299915101379 30.839999310672283 39.639999113976955\n",
      "Episode 14\tAverage Score: 37.04049917208031 17.519999608397484 39.639999113976955\n",
      "Episode 15\tAverage Score: 37.28749916655943 32.21999927982688 39.60999911464751\n",
      "Episode 16\tAverage Score: 38.417999141290785 26.91999939829111 39.58999911509454\n",
      "Episode 17\tAverage Score: 38.142999147437514 32.34999927692115 39.679999113082886\n",
      "Episode 18\tAverage Score: 36.62749918131158 27.099999394267797 39.64999911375344\n",
      "Episode 19\tAverage Score: 38.03099914994091 28.919999353587627 39.679999113082886\n",
      "Episode 20\tAverage Score: 36.79949917746708 30.429999319836497 39.65999911352992\n",
      "Episode 21\tAverage Score: 37.05349917178974 0.7699999827891588 39.639999113976955\n",
      "Episode 22\tAverage Score: 37.54949916070327 18.54999958537519 39.6699991133064\n",
      "Episode 23\tAverage Score: 36.077499193605036 29.579999338835478 39.58999911509454\n",
      "Episode 24\tAverage Score: 38.674999135546386 36.67999918013811 39.61999911442399\n",
      "Episode 25\tAverage Score: 38.37649914221838 32.61999927088618 39.639999113976955\n",
      "Episode 26\tAverage Score: 37.63899915870279 32.509999273344874 39.559999115765095\n",
      "Episode 27\tAverage Score: 38.84149913182482 33.7599992454052 39.639999113976955\n",
      "Episode 28\tAverage Score: 37.85549915386364 29.369999343529344 39.58999911509454\n",
      "Episode 29\tAverage Score: 36.53399918340146 20.149999549612403 39.57999911531806\n",
      "Episode 30\tAverage Score: 38.48849913971499 35.459999207407236 39.6699991133064\n",
      "Episode 31\tAverage Score: 37.25099916737527 28.479999363422394 39.62999911420047\n",
      "Episode 32\tAverage Score: 37.818999154679474 33.439999252557755 39.64999911375344\n",
      "Episode 33\tAverage Score: 38.14199914745986 26.25999941304326 39.679999113082886\n",
      "Episode 34\tAverage Score: 37.09149917094037 32.02999928407371 39.27999912202358\n",
      "Episode 35\tAverage Score: 38.11749914800748 31.729999290779233 39.60999911464751\n",
      "Episode 36\tAverage Score: 38.29099914412946 30.659999314695597 39.54999911598861\n",
      "Episode 37\tAverage Score: 37.91249915258959 30.459999319165945 39.6699991133064\n",
      "Episode 38\tAverage Score: 37.184499168861656 30.259999323636293 39.62999911420047\n",
      "Episode 39\tAverage Score: 38.376999142207204 29.189999347552657 39.64999911375344\n",
      "Episode 40\tAverage Score: 38.25349914496765 31.48999929614365 39.6699991133064\n",
      "Episode 41\tAverage Score: 37.6659991580993 32.29999927803874 39.62999911420047\n",
      "Episode 42\tAverage Score: 37.53399916104972 23.399999476969242 39.53999911621213\n",
      "Episode 43\tAverage Score: 38.144499147403984 33.44999925233424 39.6699991133064\n",
      "Episode 44\tAverage Score: 37.40649916389957 24.27999945729971 39.639999113976955\n",
      "Episode 45\tAverage Score: 37.59599915966392 28.839999355375767 39.6699991133064\n",
      "Episode 46\tAverage Score: 37.738499156478795 30.469999318942428 39.6699991133064\n",
      "Episode 47\tAverage Score: 37.81399915479123 30.459999319165945 39.599999114871025\n",
      "Episode 48\tAverage Score: 38.05849914932624 32.669999269768596 39.65999911352992\n",
      "Episode 49\tAverage Score: 37.31449916595593 29.029999351128936 39.639999113976955\n",
      "Episode 50\tAverage Score: 38.4409991407767 32.98999926261604 39.6699991133064\n",
      "Episode 51\tAverage Score: 37.67999915778637 29.19999934732914 39.6699991133064\n",
      "Episode 52\tAverage Score: 37.57799916006625 32.279999278485775 39.64999911375344\n",
      "Episode 53\tAverage Score: 37.93799915201962 32.94999926351011 39.64999911375344\n",
      "Episode 54\tAverage Score: 37.358999164961276 32.30999927781522 39.639999113976955\n",
      "Episode 55\tAverage Score: 35.57049920493737 18.299999590963125 39.57999911531806\n",
      "Episode 56\tAverage Score: 36.57699918244034 29.85999933257699 39.6699991133064\n",
      "Episode 57\tAverage Score: 37.93199915215373 29.35999934375286 39.639999113976955\n",
      "Episode 58\tAverage Score: 38.18249914655462 30.93999930843711 39.58999911509454\n",
      "Episode 59\tAverage Score: 37.85399915389716 30.219999324530363 39.639999113976955\n",
      "Episode 60\tAverage Score: 38.22499914560467 32.09999928250909 39.64999911375344\n",
      "Episode 61\tAverage Score: 38.37099914234132 33.639999248087406 39.58999911509454\n",
      "Episode 62\tAverage Score: 38.00949915042147 30.619999315589666 39.62999911420047\n",
      "Episode 63\tAverage Score: 37.45999916270375 30.219999324530363 39.61999911442399\n",
      "Episode 64\tAverage Score: 38.0639991492033 29.909999331459403 39.599999114871025\n",
      "Episode 65\tAverage Score: 37.32299916576594 27.699999380856752 39.6699991133064\n",
      "Episode 66\tAverage Score: 38.21749914577231 31.56999929435551 39.639999113976955\n",
      "Episode 67\tAverage Score: 36.99499917309731 21.44999952055514 39.679999113082886\n",
      "Episode 68\tAverage Score: 37.881999153271316 31.289999300614 39.62999911420047\n",
      "Episode 69\tAverage Score: 37.45099916290492 26.589999405667186 39.62999911420047\n",
      "Episode 70\tAverage Score: 38.1654991469346 34.96999921835959 39.57999911531806\n",
      "Episode 71\tAverage Score: 38.072999149002136 29.569999339058995 39.6699991133064\n",
      "Episode 72\tAverage Score: 37.36499916482717 30.569999316707253 39.61999911442399\n",
      "Episode 73\tAverage Score: 36.99299917314202 25.959999419748783 39.639999113976955\n",
      "Episode 74\tAverage Score: 37.383499164413664 31.589999293908477 39.599999114871025\n",
      "Episode 75\tAverage Score: 37.41399916373193 29.9699993301183 39.68999911285937\n",
      "Episode 76\tAverage Score: 36.78899917770177 16.34999963454902 39.62999911420047\n",
      "Episode 77\tAverage Score: 38.417999141290785 32.71999926865101 39.61999911442399\n",
      "Episode 78\tAverage Score: 38.03649914981797 29.65999933704734 39.639999113976955\n",
      "Episode 79\tAverage Score: 37.317499165888876 28.629999360069633 39.62999911420047\n",
      "Episode 80\tAverage Score: 36.2694991893135 25.259999435395002 39.639999113976955\n",
      "Episode 81\tAverage Score: 35.85449919858947 2.6399999409914017 39.679999113082886\n",
      "Episode 82\tAverage Score: 37.4319991633296 30.739999312907457 39.679999113082886\n",
      "Episode 83\tAverage Score: 37.719499156903474 30.499999318271875 39.64999911375344\n",
      "Episode 84\tAverage Score: 36.9159991748631 16.099999640136957 39.64999911375344\n",
      "Episode 85\tAverage Score: 37.305999166145924 26.6399994045496 39.58999911509454\n",
      "Episode 86\tAverage Score: 37.041499172057954 30.55999931693077 39.50999911688268\n",
      "Episode 87\tAverage Score: 36.64799918085337 24.719999447464943 39.639999113976955\n",
      "Episode 88\tAverage Score: 37.66699915807694 30.489999318495393 39.64999911375344\n",
      "Episode 89\tAverage Score: 36.70649917954579 21.0699995290488 39.50999911688268\n",
      "Episode 90\tAverage Score: 38.297999143972994 32.48999927379191 39.62999911420047\n",
      "Episode 91\tAverage Score: 37.86549915364012 31.56999929435551 39.639999113976955\n",
      "Episode 92\tAverage Score: 37.33849916541949 27.21999939158559 39.68999911285937\n",
      "Episode 93\tAverage Score: 37.337999165430666 28.089999372139573 39.60999911464751\n",
      "Episode 94\tAverage Score: 36.42849918575958 20.2099995482713 39.68999911285937\n",
      "Episode 95\tAverage Score: 37.54149916088208 27.859999377280474 39.679999113082886\n",
      "Episode 96\tAverage Score: 38.41149914143607 33.09999926015735 39.50999911688268\n",
      "Episode 97\tAverage Score: 37.817499154713005 33.749999245628715 39.479999117553234\n",
      "Episode 98\tAverage Score: 36.869499175902455 21.399999521672726 39.6699991133064\n",
      "Episode 99\tAverage Score: 37.823999154567716 24.969999441877007 39.61999911442399\n"
     ]
    },
    {
     "data": {
      "image/png": "[encoded data removed]",
      "text/plain": [
       "<Figure size 432x288 with 1 Axes>"
      ]
     },
     "metadata": {
      "needs_background": "light"
     },
     "output_type": "display_data"
    }
   ],
   "source": [
    "from collections import deque\n",
    "\n",
    "scorelist = []\n",
    "score = []\n",
    "number_of_agents = 20\n",
    "\n",
    "for i_episode in range(100):\n",
    "    env_info = env.reset(train_mode=True)[brain_name]     # reset the environment  \n",
    "    states = env_info.vector_observations                 # get the current state\n",
    "    agent.reset()\n",
    "    scores = np.zeros(number_of_agents)\n",
    "    for t in range(2000):\n",
    "        actions = None\n",
    "        actions = agent.act(states)\n",
    "        env_info = env.step(actions)[brain_name]        # send the action to the environment\n",
    "        next_states = env_info.vector_observations       # get the next state\n",
    "        rewards = env_info.rewards                        # get the reward\n",
    "        dones = env_info.local_done                       # see if episode has finished\n",
    "        states = next_states\n",
    "        scores += env_info.rewards\n",
    "        if np.any(dones):\n",
    "            break\n",
    "    scorelist.append(scores)\n",
    "\n",
    "    score_mean = np.mean(scores)\n",
    "    score_min = np.min(scores)\n",
    "    score_max = np.max(scores)\n",
    "    score.append(score_mean)\n",
    "\n",
    "    print('\\rEpisode {}\\tAverage Score: {} {} {}'.format(i_episode, score_mean, score_min, score_max))\n",
    "\n",
    "pickle.dump(scorelist, open( \"scores_eval.p\", \"wb\" ))\n",
    "\n",
    "plt.xlabel('Score')\n",
    "plt.ylabel('Frequency')\n",
    "mean = np.mean([np.mean(score) for score in scorelist])\n",
    "std = np.std([np.mean(score) for score in scorelist])\n",
    "plt.title('Distribution of Scores for Trained Agent \\n Mean {:2f} and Std Dev {:2f}'.format(mean, std))\n",
    "plt.hist([np.mean(score) for score in scorelist])\n",
    "plt.savefig('reacher_20_arms_solved.png')"
   ]
  },
  {
   "cell_type": "code",
   "execution_count": null,
   "metadata": {},
   "outputs": [],
   "source": []
  }
 ],
 "metadata": {
  "kernelspec": {
   "display_name": "Python 3",
   "language": "python",
   "name": "python3"
  },
  "language_info": {
   "codemirror_mode": {
    "name": "ipython",
    "version": 3
   },
   "file_extension": ".py",
   "mimetype": "text/x-python",
   "name": "python",
   "nbconvert_exporter": "python",
   "pygments_lexer": "ipython3",
   "version": "3.6.8"
  }
 },
 "nbformat": 4,
 "nbformat_minor": 2
}
